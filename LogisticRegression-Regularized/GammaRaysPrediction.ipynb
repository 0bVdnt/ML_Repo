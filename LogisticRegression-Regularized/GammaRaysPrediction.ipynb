{
 "cells": [
  {
   "cell_type": "markdown",
   "id": "3483a5e7",
   "metadata": {},
   "source": [
    "## Logistic Regression to Classify Gamma-Ray Signals from background hadrons\n",
    "### Performing Logistic Regression on the MAGIC Gamma Telescope project dataset"
   ]
  },
  {
   "cell_type": "markdown",
   "id": "8e6004b9",
   "metadata": {},
   "source": [
    "## Dataset Specifications\n",
    "### Features:\n",
    "- fLength: Major axis of the ellipse, measured in millimeters (continuous).\n",
    "- fWidth: Minor axis of the ellipse, measured in millimeters (continuous).\n",
    "- fSize: Logarithmic sum of the content of all pixels in the telescope's image (continuous).\n",
    "- fConc: Ratio of the sum of the two highest pixel values over the total size (continuous).\n",
    "- fConc1: Ratio of the highest pixel value over the total size (continuous).\n",
    "- fAsym: Distance from the highest pixel to the center of the ellipse, projected onto the major axis (continuous).\n",
    "- fM3Long: 3rd root of the third moment along the major axis, in millimeters (continuous).\n",
    "- fM3Trans: 3rd root of the third moment along the minor axis, in millimeters (continuous).\n",
    "- fAlpha: Angle of the major axis relative to the vector to the origin, in degrees (continuous).\n",
    "- fDist: Distance from the origin to the center of the ellipse, in millimeters (continuous).\n",
    "### class: Target variable, representing:\n",
    "- g: Gamma-ray signal (positive class).\n",
    "- h: Hadron noise (negative class)."
   ]
  },
  {
   "cell_type": "code",
   "execution_count": 15,
   "id": "a02d453c",
   "metadata": {},
   "outputs": [],
   "source": [
    "import numpy as np\n",
    "import pandas as pd\n",
    "import matplotlib.pyplot as plt\n",
    "import math\n",
    "import seaborn as sns"
   ]
  },
  {
   "cell_type": "code",
   "execution_count": 2,
   "id": "cf446549",
   "metadata": {},
   "outputs": [],
   "source": [
    "def train_test_split(X, y, test_size=0.2, random_state=None):\n",
    "    \"\"\"\n",
    "    Split dataset into training and testing sets using NumPy.\n",
    "    \n",
    "    Parameters:\n",
    "    -----------\n",
    "    X : numpy array, shape (m_samples, n_features)\n",
    "        Feature dataset\n",
    "    y : numpy array, shape (m_samples,)\n",
    "        Target labels\n",
    "    test_size : float, default=0.2\n",
    "        Proportion of the dataset to include in the test split (between 0 and 1)\n",
    "    random_state : int or None, default=None\n",
    "        Random seed for reproducibility\n",
    "    \n",
    "    Returns:\n",
    "    --------\n",
    "    X_train, X_test, y_train, y_test : numpy arrays\n",
    "        Split datasets\n",
    "    \"\"\"\n",
    "    if random_state is not None:\n",
    "        np.random.seed(random_state)\n",
    "    \n",
    "    # Shuffle indices\n",
    "    indices = np.random.permutation(len(X))\n",
    "    \n",
    "    # Determine split point\n",
    "    test_split = int(len(X) * test_size)\n",
    "    \n",
    "    # Split indices\n",
    "    test_indices = indices[:test_split]\n",
    "    train_indices = indices[test_split:]\n",
    "    \n",
    "    # Return split data\n",
    "    X_train, X_test = X[train_indices], X[test_indices]\n",
    "    y_train, y_test = y[train_indices], y[test_indices]\n",
    "    \n",
    "    return X_train, X_test, y_train, y_test"
   ]
  },
  {
   "cell_type": "code",
   "execution_count": 3,
   "id": "13b7abce",
   "metadata": {},
   "outputs": [],
   "source": [
    "def feature_scaling(X):\n",
    "    \"\"\"\n",
    "    Scales features to have a mean of 0 and a standard deviation of 1.\n",
    "\n",
    "    Parameters:\n",
    "    -----------\n",
    "    X : numpy array, shape (m_samples, n_features)\n",
    "        Feature dataset\n",
    "\n",
    "    Returns:\n",
    "    --------\n",
    "    X_scaled : numpy array, shape (m_samples, n_features)\n",
    "        Scaled feature dataset\n",
    "    mu : numpy array, shape (n_features,)\n",
    "        Mean of each feature\n",
    "    sigma : numpy array, shape (n_features,)\n",
    "        Standard deviation of each feature\n",
    "    \"\"\"\n",
    "    mu = np.mean(X, axis=0)\n",
    "    sigma = np.std(X, axis=0)\n",
    "    X_scaled = (X - mu) / sigma\n",
    "    return X_scaled, mu, sigma"
   ]
  },
  {
   "cell_type": "code",
   "execution_count": 4,
   "id": "9a7cb30f",
   "metadata": {},
   "outputs": [
    {
     "name": "stdout",
     "output_type": "stream",
     "text": [
      "\n",
      "\n",
      "Training Set:\n",
      "Training Features: (15216, 10)\n",
      "Training Labels: (15216,)\n",
      "\n",
      "\n",
      "Testing Set:\n",
      "Testing Features: (3804, 10)\n",
      "Testing Labels: (3804,)\n"
     ]
    }
   ],
   "source": [
    "df = pd.read_csv('magic-gemma-telescope.csv')\n",
    "X_train, X_test, y_train, y_test = train_test_split(df.iloc[:, :-1].values, df.iloc[:, -1].values, 0.2, 42)\n",
    "\n",
    "print('\\n\\nTraining Set:')\n",
    "print('Training Features:', X_train.shape)\n",
    "print('Training Labels:', y_train.shape)\n",
    "print('\\n\\nTesting Set:')\n",
    "print('Testing Features:', X_test.shape)\n",
    "print('Testing Labels:', y_test.shape)"
   ]
  },
  {
   "cell_type": "code",
   "execution_count": 5,
   "id": "85d4253f",
   "metadata": {},
   "outputs": [
    {
     "name": "stdout",
     "output_type": "stream",
     "text": [
      "\n",
      "\n",
      "Scaled Training Set:\n",
      "Scaled Training Features: (15216, 10)\n",
      "\n",
      "\n",
      "Scaled Testing Set:\n",
      "Scaled Testing Features: (3804, 10)\n"
     ]
    }
   ],
   "source": [
    "# Scale the features\n",
    "X_train_scaled, mu, sigma = feature_scaling(X_train)\n",
    "X_test_scaled = (X_test - mu) / sigma\n",
    "\n",
    "print('\\n\\nScaled Training Set:')\n",
    "print('Scaled Training Features:', X_train_scaled.shape)\n",
    "print('\\n\\nScaled Testing Set:')\n",
    "print('Scaled Testing Features:', X_test_scaled.shape)"
   ]
  },
  {
   "cell_type": "code",
   "execution_count": 6,
   "id": "5dd3ad43",
   "metadata": {},
   "outputs": [],
   "source": [
    "# Convert y_train to integer labels (0 for 'h', 1 for 'g')\n",
    "y_train_numeric = (y_train == 'g').astype(int)\n",
    "y_test_numeric = (y_test == 'g').astype(int)"
   ]
  },
  {
   "cell_type": "code",
   "execution_count": 7,
   "id": "de90c615",
   "metadata": {},
   "outputs": [],
   "source": [
    "def sigmoid(z):\n",
    "    \"\"\"\n",
    "    Calculate the sigmoid of z.\n",
    "\n",
    "    Parameters:\n",
    "    -----------\n",
    "    z : numpy array or float\n",
    "        Input value(s)\n",
    "\n",
    "    Returns:\n",
    "    --------\n",
    "    sigmoid(z) : numpy array or float\n",
    "        Sigmoid of the input\n",
    "    \"\"\"\n",
    "    return 1 / (1 + np.exp(-z))"
   ]
  },
  {
   "cell_type": "markdown",
   "id": "359d87f0",
   "metadata": {},
   "source": [
    "### Cost function for regularized logistic regression\n",
    "\n",
    "For regularized logistic regression, the cost function is of the form:\n",
    "$$J(\\mathbf{w},b) = \\frac{1}{m}  \\sum_{i=0}^{m-1} \\left[ -y^{(i)} \\log\\left(f_{\\mathbf{w},b}\\left( \\mathbf{x}^{(i)} \\right) \\right) - \\left( 1 - y^{(i)}\\right) \\log \\left( 1 - f_{\\mathbf{w},b}\\left( \\mathbf{x}^{(i)} \\right) \\right) \\right] + \\frac{\\lambda}{2m}  \\sum_{j=0}^{n-1} w_j^2$$\n",
    "\n",
    "Comparing this to the cost function without regularization:\n",
    "\n",
    "$$ J(\\mathbf{w},b) = \\frac{1}{m}\\sum_{i=0}^{m-1} \\left[-y^{(i)} \\log\\left(f_{\\mathbf{w},b}\\left( \\mathbf{x}^{(i)} \\right) \\right) - \\left( 1 - y^{(i)}\\right) \\log \\left( 1 - f_{\\mathbf{w},b}\\left( \\mathbf{x}^{(i)} \\right) \\right)\\right]$$\n",
    "\n",
    "The difference is the regularization term, which is $$\\frac{\\lambda}{2m}  \\sum_{j=0}^{n-1} w_j^2$$ \n",
    "\n",
    "This implementation is known as L2 regularization or Ridge regularization. It helps to prevent overfitting by penalizing large weights in the model. The parameter $\\lambda$ controls the strength of the regularization; a larger $\\lambda$ increases the penalty for large weights, while a smaller $\\lambda$ reduces it.\n",
    "\n",
    "Here the $b$ parameter is not regularized."
   ]
  },
  {
   "cell_type": "code",
   "execution_count": 8,
   "id": "4511b0b0",
   "metadata": {},
   "outputs": [],
   "source": [
    "def cost_without_reg(X, y, w, b):\n",
    "    total_cost = 0\n",
    "    m = len(X)\n",
    "    n = len(w)\n",
    "    for i in range(m):\n",
    "        z_wb = 0\n",
    "        # z = x * w + b\n",
    "        for j in range(n):\n",
    "            z_wb += X[i][j] * w[j]\n",
    "        z_wb += b\n",
    "\n",
    "        # f(z) = f(wb) = sigmoid(z_wb)\n",
    "        f_wb = sigmoid(z_wb)\n",
    "        \n",
    "        loss = y[i] * np.log(f_wb) + (1-y[i]) * np.log(1 - f_wb)\n",
    "        total_cost += loss\n",
    "\n",
    "    total_cost /= (-m)\n",
    "    return total_cost"
   ]
  },
  {
   "cell_type": "code",
   "execution_count": 9,
   "id": "f59d8e9a",
   "metadata": {},
   "outputs": [],
   "source": [
    "def cost_regularized(X, y, w, b, lambda_ = 1):\n",
    "    m, n = X.shape\n",
    "\n",
    "    cost_without_regression = cost_without_reg(X, y, w, b)\n",
    "    \n",
    "    regularization_cost = 0\n",
    "\n",
    "    for j in range(n):\n",
    "        regularization_cost += w[j] * w[j]\n",
    "    regularization_cost *= lambda_;\n",
    "    regularization_cost /= (2 * m);\n",
    "\n",
    "    total_cost = cost_without_regression + regularization_cost\n",
    "\n",
    "    return total_cost"
   ]
  },
  {
   "cell_type": "markdown",
   "id": "753564e3",
   "metadata": {},
   "source": [
    "### 3.5 Gradient for Regularized Logistic Regression\n",
    "\n",
    "The gradient of the regularized cost function has two components. The first, $\\frac{\\partial J(\\mathbf{w},b)}{\\partial b}$, is a scalar. The other is a vector with the same shape as the parameters $\\mathbf{w}$, where the $j^{th}$ element is defined as follows:\n",
    "\n",
    "$$\\frac{\\partial J(\\mathbf{w},b)}{\\partial b} = \\frac{1}{m} \\sum_{i=0}^{m-1} (f_{\\mathbf{w},b}(\\mathbf{x}^{(i)}) - y^{(i)})$$\n",
    "\n",
    "$$\\frac{\\partial J(\\mathbf{w},b)}{\\partial w_j} = \\left( \\frac{1}{m} \\sum_{i=0}^{m-1} (f_{\\mathbf{w},b}(\\mathbf{x}^{(i)}) - y^{(i)}) x_j^{(i)} \\right) + \\frac{\\lambda}{m} w_j \\quad \\text{for } j=0, \\dots, n-1$$\n",
    "\n",
    "***\n",
    "\n",
    "Compare this to the gradient of the cost function **without regularization**, which is of the form:\n",
    "\n",
    "$$\\frac{\\partial J(\\mathbf{w},b)}{\\partial b} = \\frac{1}{m} \\sum_{i = 0}^{m-1} (f_{\\mathbf{w},b}(\\mathbf{x}^{(i)}) - y^{(i)}) \\tag{2}$$\n",
    "\n",
    "$$\\frac{\\partial J(\\mathbf{w},b)}{\\partial w_j} = \\frac{1}{m} \\sum_{i = 0}^{m-1} (f_{\\mathbf{w},b}(\\mathbf{x}^{(i)}) - y^{(i)})x_{j}^{(i)} \\tag{3}$$\n",
    "\n",
    "***\n",
    "\n",
    "It can be observed that $\\frac{\\partial J(\\mathbf{w},b)}{\\partial b}$ is the same. The difference is the following term in $\\frac{\\partial J(\\mathbf{w},b)}{\\partial w_j}$, which is added to the gradient without regularization:\n",
    "\n",
    "$$\\frac{\\lambda}{m} w_j \\quad \\text{for } j=0, \\dots, n-1$$"
   ]
  },
  {
   "cell_type": "code",
   "execution_count": 10,
   "id": "da97f67d",
   "metadata": {},
   "outputs": [],
   "source": [
    "def gradient_without_regularization(X, y, w, b):\n",
    "    m, n = X.shape\n",
    "    dj_dw = np.zeros(w.shape)\n",
    "    dj_db = 0\n",
    "\n",
    "    for i in range(m):\n",
    "        z_wb = 0\n",
    "        for j in range(n):\n",
    "            z_wb += w[j] * X[i][j]\n",
    "        z_wb += b\n",
    "        f_wb = sigmoid(z_wb)\n",
    "\n",
    "        dj_db_i = f_wb - y[i]\n",
    "        dj_db += dj_db_i\n",
    "\n",
    "        for j in range(n):\n",
    "            dj_dw[j] += dj_db_i * X[i][j]\n",
    "    dj_dw /= m\n",
    "    dj_db /= m\n",
    "\n",
    "    return dj_db, dj_dw"
   ]
  },
  {
   "cell_type": "code",
   "execution_count": 11,
   "id": "4ca145b4",
   "metadata": {},
   "outputs": [],
   "source": [
    "def gradient_regularized(X, y, w, b, lambda_ = 1):\n",
    "    m, n = X.shape\n",
    "\n",
    "    dj_db, dj_dw = gradient_without_regularization(X, y, w, b)\n",
    "\n",
    "    reg_gradient_term = 0\n",
    "\n",
    "    for j in range(n):\n",
    "        dj_dw[j] += (w[j] * lambda_ / m)\n",
    "    \n",
    "    return dj_db, dj_dw"
   ]
  },
  {
   "cell_type": "markdown",
   "id": "5657dd96",
   "metadata": {},
   "source": [
    "### Implementing gradient descent for regularized logistic regression"
   ]
  },
  {
   "cell_type": "code",
   "execution_count": 12,
   "id": "85521012",
   "metadata": {},
   "outputs": [],
   "source": [
    "def gradient_descent(X, y, w_in, b_in, cost_function, gradient_function, alpha, iter_cnt, lambda_):\n",
    "    # Number of training examples\n",
    "    m = len(X)\n",
    "\n",
    "    # Storing the history of w, b and J\n",
    "    w_hist = []\n",
    "    b_hist = []\n",
    "    J_hist = []\n",
    "\n",
    "    for i in range(iter_cnt):\n",
    "        # Obtain the value of the gradient for w_in and b_in\n",
    "        dj_db, dj_dw = gradient_function(X, y, w_in, b_in, lambda_)\n",
    "\n",
    "        # Update\n",
    "        w_in -= alpha * dj_dw\n",
    "        b_in -= alpha * dj_db\n",
    "\n",
    "        # Print cost every at intervals 10 times or as many iterations if < 10\n",
    "        if i% math.ceil(iter_cnt/10) == 0 or i == (iter_cnt-1):\n",
    "            cost = cost_function(X, y, w_in, b_in, lambda_)\n",
    "            J_hist.append(cost)\n",
    "            w_hist.append(w_in)\n",
    "            b_hist.append(b_in)\n",
    "            print(f\"Iteration {i:4}: Cost {float(J_hist[-1]):8.2f}   \")\n",
    "\n",
    "    return w_in, b_in, J_hist, w_hist, b_hist #return w and J,w history for graphing"
   ]
  },
  {
   "cell_type": "code",
   "execution_count": 13,
   "id": "02483d47",
   "metadata": {},
   "outputs": [
    {
     "name": "stdout",
     "output_type": "stream",
     "text": [
      "Iteration    0: Cost     0.69   \n",
      "Iteration 1000: Cost     0.61   \n",
      "Iteration 2000: Cost     0.56   \n",
      "Iteration 3000: Cost     0.53   \n",
      "Iteration 4000: Cost     0.51   \n",
      "Iteration 5000: Cost     0.50   \n",
      "Iteration 6000: Cost     0.49   \n",
      "Iteration 7000: Cost     0.49   \n",
      "Iteration 8000: Cost     0.48   \n",
      "Iteration 9000: Cost     0.48   \n",
      "Iteration 9999: Cost     0.47   \n"
     ]
    }
   ],
   "source": [
    "m, n = X_train_scaled.shape\n",
    "initial_w = np.zeros(n)\n",
    "initial_b = 0\n",
    "\n",
    "iterations = 10000\n",
    "alpha = 0.001\n",
    "\n",
    "w, b, J_history, w_hist, b_hist = gradient_descent(X_train_scaled ,y_train_numeric, initial_w, initial_b, cost_regularized, gradient_regularized, alpha, iterations, 0)"
   ]
  },
  {
   "cell_type": "code",
   "execution_count": 25,
   "id": "e8a3c8d9",
   "metadata": {},
   "outputs": [],
   "source": [
    "def predict(X, w, b):\n",
    "    z = X @ w + b\n",
    "    f_wb = sigmoid(z)\n",
    "    return (f_wb >= 0.5).astype(int)"
   ]
  },
  {
   "cell_type": "code",
   "execution_count": 28,
   "id": "1a1f96c7",
   "metadata": {},
   "outputs": [
    {
     "name": "stdout",
     "output_type": "stream",
     "text": [
      "[-0.51212747 -0.32043332 -0.12002948 -0.10247361 -0.16051734  0.14564075\n",
      "  0.23375466  0.01460005 -0.87760182 -0.07270061] 0.5613539500473137\n",
      "\n",
      "Model Accuracy on Test Set: 78.29%\n",
      "\n",
      "Generating Confusion Matrix...\n"
     ]
    }
   ],
   "source": [
    "# --- 4. Evaluate the Model on the Test Set ---\n",
    "print(w, b)\n",
    "predictions_test = predict(X_test_scaled, w, b)\n",
    "test_accuracy = np.mean(predictions_test == y_test_numeric) * 100\n",
    "print(f\"\\nModel Accuracy on Test Set: {test_accuracy:.2f}%\")\n",
    "\n",
    "# --- 5. Generate and Plot a Confusion Matrix ---\n",
    "print(\"\\nGenerating Confusion Matrix...\")\n",
    "tp = np.sum((predictions_test == 1) & (y_test_numeric == 1))\n",
    "tn = np.sum((predictions_test == 0) & (y_test_numeric == 0))\n",
    "fp = np.sum((predictions_test == 1) & (y_test_numeric == 0))\n",
    "fn = np.sum((predictions_test == 0) & (y_test_numeric == 1))\n",
    "\n",
    "confusion_matrix = np.array([[tn, fp], [fn, tp]])"
   ]
  },
  {
   "cell_type": "code",
   "execution_count": 35,
   "id": "7551315f",
   "metadata": {},
   "outputs": [
    {
     "data": {
      "image/png": "[encoded data removed]",
      "text/plain": [
       "<Figure size 600x400 with 2 Axes>"
      ]
     },
     "metadata": {},
     "output_type": "display_data"
    },
    {
     "name": "stdout",
     "output_type": "stream",
     "text": [
      "\n",
      "--- Confusion Matrix Breakdown ---\n",
      "True Positives (Gamma correctly identified): 2215\n",
      "True Negatives (Hadron correctly identified): 763\n",
      "False Positives (Hadron mistaken for Gamma): 581\n",
      "False Negatives (Gamma mistaken for Hadron): 245\n"
     ]
    }
   ],
   "source": [
    "plt.figure(figsize=(6, 4))\n",
    "sns.heatmap(confusion_matrix, annot=True, fmt='d', cmap='Blues',\n",
    "            xticklabels=['Predicted Hadron (0)', 'Predicted Gamma (1)'],\n",
    "            yticklabels=['Actual Hadron (0)', 'Actual Gamma (1)'])\n",
    "plt.title('Confusion Matrix', fontsize=16)\n",
    "plt.ylabel('Actual Class', fontsize=12)\n",
    "plt.xlabel('Predicted Class', fontsize=12)\n",
    "plt.show()\n",
    "\n",
    "print(\"\\n--- Confusion Matrix Breakdown ---\")\n",
    "print(f\"True Positives (Gamma correctly identified): {tp}\")\n",
    "print(f\"True Negatives (Hadron correctly identified): {tn}\")\n",
    "print(f\"False Positives (Hadron mistaken for Gamma): {fp}\")\n",
    "print(f\"False Negatives (Gamma mistaken for Hadron): {fn}\")"
   ]
  },
  {
   "cell_type": "code",
   "execution_count": 36,
   "id": "9d000bfd",
   "metadata": {},
   "outputs": [],
   "source": [
    "# Calculate Precision\n",
    "denominator_precision = tp + fp\n",
    "if denominator_precision > 0:\n",
    "    precision = tp / denominator_precision\n",
    "else:\n",
    "    precision = 0.0 # No positive predictions, so precision is 0\n",
    "\n",
    "# Calculate Recall\n",
    "denominator_recall = tp + fn\n",
    "if denominator_recall > 0:\n",
    "    recall = tp / denominator_recall\n",
    "else:\n",
    "    recall = 0.0 # No actual positives in the dataset, so recall is 0\n",
    "\n",
    "# Calculate F1-Score\n",
    "denominator_f1 = precision + recall\n",
    "if denominator_f1 > 0:\n",
    "    f1_score = 2 * (precision * recall) / denominator_f1\n",
    "else:\n",
    "    f1_score = 0.0 # If both precision and recall are 0\n"
   ]
  },
  {
   "cell_type": "code",
   "execution_count": 37,
   "id": "e796ab2f",
   "metadata": {},
   "outputs": [
    {
     "name": "stdout",
     "output_type": "stream",
     "text": [
      "--- Manual Performance Metrics ---\n",
      "Accuracy: 78.2860%\n",
      "Precision: 0.7922\n",
      "Recall:    0.9004\n",
      "F1-Score:  0.8428\n"
     ]
    }
   ],
   "source": [
    "# --- Print the Results ---\n",
    "print(\"--- Manual Performance Metrics ---\")\n",
    "print(f\"Accuracy: {test_accuracy:.4f}%\")\n",
    "print(f\"Precision: {precision:.4f}\")\n",
    "print(f\"Recall:    {recall:.4f}\")\n",
    "print(f\"F1-Score:  {f1_score:.4f}\")"
   ]
  }
 ],
 "metadata": {
  "kernelspec": {
   "display_name": ".venv (3.13.3)",
   "language": "python",
   "name": "python3"
  },
  "language_info": {
   "codemirror_mode": {
    "name": "ipython",
    "version": 3
   },
   "file_extension": ".py",
   "mimetype": "text/x-python",
   "name": "python",
   "nbconvert_exporter": "python",
   "pygments_lexer": "ipython3",
   "version": "3.13.3"
  }
 },
 "nbformat": 4,
 "nbformat_minor": 5
}
